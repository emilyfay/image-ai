{
 "cells": [
  {
   "cell_type": "code",
   "execution_count": 1,
   "metadata": {
    "collapsed": true
   },
   "outputs": [],
   "source": [
    "! source activate web_env"
   ]
  },
  {
   "cell_type": "code",
   "execution_count": 9,
   "metadata": {
    "collapsed": false
   },
   "outputs": [],
   "source": [
    "from image_fill_deconv import fill"
   ]
  },
  {
   "cell_type": "code",
   "execution_count": 29,
   "metadata": {
    "collapsed": false
   },
   "outputs": [
    {
     "name": "stdout",
     "output_type": "stream",
     "text": [
      " [*] Reading checkpoints...\n",
      " [*] Load SUCCESS\n"
     ]
    }
   ],
   "source": [
    "! python train_test.py"
   ]
  },
  {
   "cell_type": "code",
   "execution_count": 50,
   "metadata": {
    "collapsed": false
   },
   "outputs": [],
   "source": [
    "import tensorflow as tf\n",
    "from scipy import ndimage\n",
    "from fill_deconv import DCGAN\n",
    "from utils import imsave_single"
   ]
  },
  {
   "cell_type": "code",
   "execution_count": 45,
   "metadata": {
    "collapsed": false
   },
   "outputs": [
    {
     "name": "stdout",
     "output_type": "stream",
     "text": [
      "got image\n",
      " [*] Reading checkpoints...\n",
      " [*] Trained Load SUCCESS from ../final_checkpoint_deconv\n",
      " [!] Load failed.\n"
     ]
    },
    {
     "ename": "IndexError",
     "evalue": "list index out of range",
     "output_type": "error",
     "traceback": [
      "\u001b[0;31m-------------------------------------------------------------------------\u001b[0m",
      "\u001b[0;31mIndexError\u001b[0m                              Traceback (most recent call last)",
      "\u001b[0;32m<ipython-input-45-81978c597f7e>\u001b[0m in \u001b[0;36m<module>\u001b[0;34m()\u001b[0m\n\u001b[1;32m     11\u001b[0m     dcgan = DCGAN(sess, image_size=64, batch_size=1,\n\u001b[1;32m     12\u001b[0m                   is_crop=False, checkpoint_dir=\"../final_checkpoint_deconv\")\n\u001b[0;32m---> 13\u001b[0;31m     \u001b[0mfilled_image\u001b[0m \u001b[0;34m=\u001b[0m \u001b[0mdcgan\u001b[0m\u001b[0;34m.\u001b[0m\u001b[0minfill\u001b[0m\u001b[0;34m(\u001b[0m\u001b[0mmasked_image\u001b[0m\u001b[0;34m)\u001b[0m\u001b[0;34m\u001b[0m\u001b[0m\n\u001b[0m",
      "\u001b[0;32m/Users/efay/Insight/web_app/Image_completer/fill_deconv.py\u001b[0m in \u001b[0;36minfill\u001b[0;34m(self, masked_image)\u001b[0m\n\u001b[1;32m    177\u001b[0m \u001b[0;34m\u001b[0m\u001b[0m\n\u001b[1;32m    178\u001b[0m \u001b[0;34m\u001b[0m\u001b[0m\n\u001b[0;32m--> 179\u001b[0;31m     \u001b[0;32mdef\u001b[0m \u001b[0minfill\u001b[0m\u001b[0;34m(\u001b[0m\u001b[0mself\u001b[0m\u001b[0;34m,\u001b[0m \u001b[0mmasked_image\u001b[0m\u001b[0;34m)\u001b[0m\u001b[0;34m:\u001b[0m\u001b[0;34m\u001b[0m\u001b[0m\n\u001b[0m\u001b[1;32m    180\u001b[0m \u001b[0;34m\u001b[0m\u001b[0m\n\u001b[1;32m    181\u001b[0m         \u001b[0mfilled_image\u001b[0m \u001b[0;34m=\u001b[0m \u001b[0;34m[\u001b[0m\u001b[0;34m]\u001b[0m\u001b[0;34m\u001b[0m\u001b[0m\n",
      "\u001b[0;31mIndexError\u001b[0m: list index out of range"
     ]
    }
   ],
   "source": [
    "masked_folder = \"static/masked_images/\"\n",
    "filename = 'test.png'\n",
    "image_path = masked_folder+filename\n",
    "masked_image = ndimage.imread(image_path, mode='RGB')\n",
    "print('got image')\n",
    "\n",
    "config = tf.ConfigProto()\n",
    "config.gpu_options.allow_growth = True\n",
    "tfsession = tf.Session(config=config)\n",
    "with tfsession as sess:\n",
    "    dcgan = DCGAN(sess, image_size=64, batch_size=1,\n",
    "                  is_crop=False, checkpoint_dir=\"../final_checkpoint_deconv\")\n",
    "    filled_image = dcgan.infill(masked_image)"
   ]
  },
  {
   "cell_type": "code",
   "execution_count": 51,
   "metadata": {
    "collapsed": false
   },
   "outputs": [
    {
     "name": "stdout",
     "output_type": "stream",
     "text": [
      "got image\n",
      " [*] Reading checkpoints...\n",
      " [*] Trained Load SUCCESS from ../final_checkpoint_deconv\n",
      " [!] Load failed.\n"
     ]
    },
    {
     "ename": "IndexError",
     "evalue": "list index out of range",
     "output_type": "error",
     "traceback": [
      "\u001b[0;31m-------------------------------------------------------------------------\u001b[0m",
      "\u001b[0;31mIndexError\u001b[0m                              Traceback (most recent call last)",
      "\u001b[0;32m<ipython-input-51-0f5448b70dbf>\u001b[0m in \u001b[0;36m<module>\u001b[0;34m()\u001b[0m\n\u001b[1;32m     16\u001b[0m                   is_crop=False, checkpoint_dir=\"../final_checkpoint_deconv\")\n\u001b[1;32m     17\u001b[0m     \u001b[0;31m#dcgan.train()\u001b[0m\u001b[0;34m\u001b[0m\u001b[0;34m\u001b[0m\u001b[0m\n\u001b[0;32m---> 18\u001b[0;31m     \u001b[0mfilled_image\u001b[0m \u001b[0;34m=\u001b[0m \u001b[0mdcgan\u001b[0m\u001b[0;34m.\u001b[0m\u001b[0minfill\u001b[0m\u001b[0;34m(\u001b[0m\u001b[0mmasked_image\u001b[0m\u001b[0;34m)\u001b[0m\u001b[0;34m\u001b[0m\u001b[0m\n\u001b[0m\u001b[1;32m     19\u001b[0m \u001b[0;34m\u001b[0m\u001b[0m\n\u001b[1;32m     20\u001b[0m \u001b[0mimsave_single\u001b[0m\u001b[0;34m(\u001b[0m\u001b[0mfilled_image\u001b[0m\u001b[0;34m,\u001b[0m \u001b[0;34m(\u001b[0m\u001b[0;34m\"Image_completer/static/completed_images/out_%s\"\u001b[0m \u001b[0;34m%\u001b[0m\u001b[0mfilename\u001b[0m\u001b[0;34m)\u001b[0m\u001b[0;34m)\u001b[0m\u001b[0;34m\u001b[0m\u001b[0m\n",
      "\u001b[0;32m/Users/efay/Insight/web_app/Image_completer/fill_deconv.py\u001b[0m in \u001b[0;36minfill\u001b[0;34m(self, masked_image)\u001b[0m\n\u001b[1;32m    177\u001b[0m \u001b[0;34m\u001b[0m\u001b[0m\n\u001b[1;32m    178\u001b[0m \u001b[0;34m\u001b[0m\u001b[0m\n\u001b[0;32m--> 179\u001b[0;31m     \u001b[0;32mdef\u001b[0m \u001b[0minfill\u001b[0m\u001b[0;34m(\u001b[0m\u001b[0mself\u001b[0m\u001b[0;34m,\u001b[0m \u001b[0mmasked_image\u001b[0m\u001b[0;34m)\u001b[0m\u001b[0;34m:\u001b[0m\u001b[0;34m\u001b[0m\u001b[0m\n\u001b[0m\u001b[1;32m    180\u001b[0m \u001b[0;34m\u001b[0m\u001b[0m\n\u001b[1;32m    181\u001b[0m         \u001b[0mfilled_image\u001b[0m \u001b[0;34m=\u001b[0m \u001b[0;34m[\u001b[0m\u001b[0;34m]\u001b[0m\u001b[0;34m\u001b[0m\u001b[0m\n",
      "\u001b[0;31mIndexError\u001b[0m: list index out of range"
     ]
    }
   ],
   "source": [
    "landing_upload_folder = \"static/upload_landing/\"\n",
    "raw_upload_folder = \"static/raw_uploads/\"\n",
    "proc_upload_folder = \"static/proc_uploads/\"\n",
    "masked_folder = \"static/masked_images/\"\n",
    "completed_folder = \"static/completed_images/\"\n",
    "filename = \"test.png\"\n",
    "image_path = masked_folder+filename\n",
    "masked_image = ndimage.imread(image_path, mode='RGB')\n",
    "print('got image')\n",
    "\n",
    "config = tf.ConfigProto()\n",
    "config.gpu_options.allow_growth = True\n",
    "tfsession = tf.Session(config=config)\n",
    "with tfsession as sess:\n",
    "    dcgan = DCGAN(sess, image_size=64, batch_size=1,\n",
    "                  is_crop=False, checkpoint_dir=\"../final_checkpoint_deconv\")\n",
    "    #dcgan.train()\n",
    "    filled_image = dcgan.infill(masked_image)\n",
    "\n",
    "imsave_single(filled_image, (\"Image_completer/static/completed_images/out_%s\" %filename))\n",
    "print('saved completed image as %s' %filename)\n",
    "\n",
    "big_filled = misc.imresize(filled_image,(x_,y_,3), interp = 'lanczos')\n",
    "\n",
    "complete_im = np.add(np.multiply(original_im, big_not_mask),np.multiply(big_filled,big_mask))\n",
    "completed_path = completed_folder+filename\n",
    "misc.imsave(completed_path, complete_im)"
   ]
  },
  {
   "cell_type": "code",
   "execution_count": 2,
   "metadata": {
    "collapsed": false
   },
   "outputs": [
    {
     "name": "stdout",
     "output_type": "stream",
     "text": [
      "python: can't open file 'image_fill.py': [Errno 2] No such file or directory\r\n"
     ]
    }
   ],
   "source": [
    "! python image_fill.py"
   ]
  },
  {
   "cell_type": "code",
   "execution_count": null,
   "metadata": {
    "collapsed": true
   },
   "outputs": [],
   "source": []
  }
 ],
 "metadata": {
  "kernelspec": {
   "display_name": "Python 2",
   "language": "python",
   "name": "python2"
  },
  "language_info": {
   "codemirror_mode": {
    "name": "ipython",
    "version": 2
   },
   "file_extension": ".py",
   "mimetype": "text/x-python",
   "name": "python",
   "nbconvert_exporter": "python",
   "pygments_lexer": "ipython2",
   "version": "2.7.12"
  }
 },
 "nbformat": 4,
 "nbformat_minor": 1
}
